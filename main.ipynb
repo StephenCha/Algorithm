{
 "cells": [
  {
   "cell_type": "markdown",
   "id": "af3a64c8-da3d-4ce9-b0f3-070d484a2e06",
   "metadata": {},
   "source": [
    "### Algorithm Collection"
   ]
  },
  {
   "cell_type": "code",
   "execution_count": 1,
   "id": "05c82f52-dbfb-48cd-a6e5-6cb8556e68ad",
   "metadata": {},
   "outputs": [],
   "source": [
    "import sys"
   ]
  },
  {
   "cell_type": "markdown",
   "id": "9b0c94c7-278a-4a5e-be72-a99cc149336e",
   "metadata": {},
   "source": [
    "#### Longest Common Subsequence"
   ]
  },
  {
   "cell_type": "code",
   "execution_count": 2,
   "id": "2ec30b46-feb1-486a-a277-110e8d8357a9",
   "metadata": {},
   "outputs": [],
   "source": [
    "import LCS as LCS"
   ]
  },
  {
   "cell_type": "code",
   "execution_count": 3,
   "id": "88120f4e-7685-4826-a401-e5831acb7901",
   "metadata": {},
   "outputs": [],
   "source": [
    "str1 = 'AGTCAG'\n",
    "str2 = 'ATGTG'\n",
    "len1 = len(str1)\n",
    "len2 = len(str2)"
   ]
  },
  {
   "cell_type": "code",
   "execution_count": 4,
   "id": "add2982f-daaf-484a-882f-8ca87d87c4a7",
   "metadata": {},
   "outputs": [
    {
     "name": "stdout",
     "output_type": "stream",
     "text": [
      "[[0, 0, 0, 0, 0, 0], [0, 1, 1, 1, 1, 1], [0, 1, 1, 2, 2, 2], [0, 1, 2, 2, 3, 3], [0, 1, 2, 2, 3, 3], [0, 1, 2, 2, 3, 3], [0, 1, 2, 3, 3, 4]]\n"
     ]
    }
   ],
   "source": [
    "strings_LCS = LCS.getLCS(str1, str2)\n",
    "print(strings_LCS)"
   ]
  },
  {
   "cell_type": "code",
   "execution_count": 5,
   "id": "c4e2ddb6-58e1-4d5c-95c5-0ea6dc7eefe6",
   "metadata": {},
   "outputs": [
    {
     "name": "stdout",
     "output_type": "stream",
     "text": [
      "['A', 'G', 'T', 'G']\n"
     ]
    }
   ],
   "source": [
    "candidate = LCS.findLCS(strings_LCS, str1, len1, len2)\n",
    "print(candidate)"
   ]
  },
  {
   "cell_type": "code",
   "execution_count": null,
   "id": "dab01bb7-682e-4348-a5a4-3b2de48e8fbd",
   "metadata": {},
   "outputs": [],
   "source": []
  },
  {
   "cell_type": "code",
   "execution_count": null,
   "id": "cac26e3f-36ea-498b-9c0e-3c6c61199bbc",
   "metadata": {},
   "outputs": [],
   "source": []
  }
 ],
 "metadata": {
  "kernelspec": {
   "display_name": "Python 3 (ipykernel)",
   "language": "python",
   "name": "python3"
  },
  "language_info": {
   "codemirror_mode": {
    "name": "ipython",
    "version": 3
   },
   "file_extension": ".py",
   "mimetype": "text/x-python",
   "name": "python",
   "nbconvert_exporter": "python",
   "pygments_lexer": "ipython3",
   "version": "3.8.11"
  }
 },
 "nbformat": 4,
 "nbformat_minor": 5
}
